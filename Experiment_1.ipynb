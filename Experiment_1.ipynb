{
 "cells": [
  {
   "cell_type": "code",
   "execution_count": 10,
   "id": "07bb9570",
   "metadata": {},
   "outputs": [],
   "source": [
    "## To read an image and display it\n",
    "import cv2\n",
    "img=cv2.imread('horse.jfif',-1)\n",
    "cv2.imshow('212221230081-M.RAJESHKANNAN',img)\n",
    "cv2.waitKey()\n",
    "cv2.destroyAllWindows()\n"
   ]
  },
  {
   "cell_type": "code",
   "execution_count": 11,
   "id": "d09b3754",
   "metadata": {},
   "outputs": [
    {
     "data": {
      "text/plain": [
       "True"
      ]
     },
     "execution_count": 11,
     "metadata": {},
     "output_type": "execute_result"
    }
   ],
   "source": [
    "# To write an image\n",
    "import cv2\n",
    "img=cv2.imread('horse.jfif',-1)\n",
    "cv2.imwrite('writed_horse.png',img)\n",
    "cv2.imwrite('writed_horse.jpeg',img)"
   ]
  },
  {
   "cell_type": "code",
   "execution_count": 5,
   "id": "8a32f802",
   "metadata": {},
   "outputs": [
    {
     "name": "stdout",
     "output_type": "stream",
     "text": [
      "(666, 1000, 3)\n"
     ]
    }
   ],
   "source": [
    "import cv2\n",
    "img=cv2.imread('horse.jfif',-1)\n",
    "print(img.shape)\n"
   ]
  },
  {
   "cell_type": "code",
   "execution_count": 12,
   "id": "8d41488a",
   "metadata": {},
   "outputs": [],
   "source": [
    "## To access a particular portion of an image\n",
    "import cv2\n",
    "img=cv2.imread('horse.jfif',-1)\n",
    "for i in range(100,250):\n",
    "    for j in range(100,500):\n",
    "        img[i][j]=[255,100,255] #blue green red\n",
    "cv2.imshow('212221230081-M.RAJESHKANNAN',img);\n",
    "cv2.waitKey(0)\n",
    "cv2.destroyAllWindows()\n",
    "    "
   ]
  },
  {
   "cell_type": "code",
   "execution_count": 13,
   "id": "989f1ef5",
   "metadata": {},
   "outputs": [],
   "source": [
    "## To copy a particular potion of an image and paste it in another place\n",
    "import cv2\n",
    "img1=cv2.imread('horse.jfif',-1)\n",
    "copied_portion=img1[150:250,250:450]\n",
    "img1[350:450,550:750]=copied_portion\n",
    "cv2.imshow('212221230081-M.RAJESHKANNAN',img1)\n",
    "cv2.waitKey(0)\n",
    "cv2.destroyAllWindows()\n"
   ]
  },
  {
   "cell_type": "code",
   "execution_count": null,
   "id": "53891649",
   "metadata": {},
   "outputs": [],
   "source": []
  },
  {
   "cell_type": "code",
   "execution_count": null,
   "id": "e806a916",
   "metadata": {},
   "outputs": [],
   "source": []
  }
 ],
 "metadata": {
  "kernelspec": {
   "display_name": "Python 3",
   "language": "python",
   "name": "python3"
  },
  "language_info": {
   "codemirror_mode": {
    "name": "ipython",
    "version": 3
   },
   "file_extension": ".py",
   "mimetype": "text/x-python",
   "name": "python",
   "nbconvert_exporter": "python",
   "pygments_lexer": "ipython3",
   "version": "3.8.8"
  }
 },
 "nbformat": 4,
 "nbformat_minor": 5
}
